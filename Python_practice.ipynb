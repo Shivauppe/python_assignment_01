{
 "cells": [
  {
   "cell_type": "code",
   "execution_count": 10,
   "id": "0e25ea90-69fb-4e9a-9225-b935d3ecdcfe",
   "metadata": {},
   "outputs": [
    {
     "name": "stdout",
     "output_type": "stream",
     "text": [
      " a is even\n"
     ]
    }
   ],
   "source": [
    "a = 42\n",
    "if a%2 == 0:\n",
    "    print(\" a is even\")"
   ]
  },
  {
   "cell_type": "code",
   "execution_count": 12,
   "id": "1629915d-7e2e-4088-95d4-adbf3fab438d",
   "metadata": {},
   "outputs": [
    {
     "name": "stdout",
     "output_type": "stream",
     "text": [
      "Ill not play cricket\n"
     ]
    }
   ],
   "source": [
    "weather = 'Rainy'\n",
    "if weather == 'Rainy':\n",
    "    print(\"Ill not play cricket\")"
   ]
  },
  {
   "cell_type": "code",
   "execution_count": 14,
   "id": "450e7f88-9307-4575-b0e6-a0e2429fb5ed",
   "metadata": {},
   "outputs": [
    {
     "name": "stdout",
     "output_type": "stream",
     "text": [
      "ill play cricket\n"
     ]
    }
   ],
   "source": [
    "weather = 'Rainy'\n",
    "if weather != 'Rainy':\n",
    "    print(\"Ill not play cricket\")\n",
    "else:\n",
    "    print(\"ill play cricket\")"
   ]
  },
  {
   "cell_type": "code",
   "execution_count": 15,
   "id": "b3e44120-5b9d-48c8-98b1-c66174897b49",
   "metadata": {},
   "outputs": [
    {
     "name": "stdout",
     "output_type": "stream",
     "text": [
      "Ill not play cricket\n"
     ]
    }
   ],
   "source": [
    "weather = 'Rainy'\n",
    "if weather == 'Rainy':\n",
    "    print(\"Ill not play cricket\")\n",
    "else:\n",
    "    print(\"ill play cricket\")"
   ]
  },
  {
   "cell_type": "code",
   "execution_count": 17,
   "id": "1d62b26e-91a6-4531-9e93-adb5a4d4b952",
   "metadata": {},
   "outputs": [
    {
     "name": "stdout",
     "output_type": "stream",
     "text": [
      "not eligible to cast the vote\n"
     ]
    }
   ],
   "source": [
    "age = 18\n",
    "if age >18:\n",
    "    print(\"Eligible to cast the vote\")\n",
    "else:\n",
    "    print(\"not eligible to cast the vote\")"
   ]
  },
  {
   "cell_type": "code",
   "execution_count": 19,
   "id": "9c068a7e-63fe-4223-8948-0336cefed5f3",
   "metadata": {},
   "outputs": [
    {
     "name": "stdout",
     "output_type": "stream",
     "text": [
      "Eligible to cast the vote\n"
     ]
    }
   ],
   "source": [
    "age = 19\n",
    "if age >=18:\n",
    "    print(\"Eligible to cast the vote\")\n",
    "else:\n",
    "    print(\"not eligible to cast the vote\")"
   ]
  },
  {
   "cell_type": "code",
   "execution_count": 21,
   "id": "3a9ecfa8-ee46-446e-9a5b-95bc3945ae1e",
   "metadata": {},
   "outputs": [
    {
     "name": "stdout",
     "output_type": "stream",
     "text": [
      "i am studying data science course\n"
     ]
    }
   ],
   "source": [
    "is_dscourse = True\n",
    "if is_dscourse:\n",
    "    print(\"i am studying data science course\")\n",
    "else:\n",
    "    print(\"not opted for ds course, please subscibe to continue\")"
   ]
  },
  {
   "cell_type": "code",
   "execution_count": 30,
   "id": "2a622953-1942-4b05-aa82-ccedf7fd77bc",
   "metadata": {},
   "outputs": [
    {
     "name": "stdin",
     "output_type": "stream",
     "text": [
      "Enter the value of number 9\n"
     ]
    },
    {
     "name": "stdout",
     "output_type": "stream",
     "text": [
      "Entered number is positive odd number\n"
     ]
    }
   ],
   "source": [
    "#to check the number is even\n",
    "num = int(input(\"Enter the value of number\"))\n",
    "if(num%2 == 0) & (num > 0):\n",
    "    print(\"Entered number is even\")\n",
    "elif(num<0) & (num%2 == 0):\n",
    "    print(\"Entered value is -ve number and its -ve even number\")\n",
    "elif(num<0) & (num%2 != 0):\n",
    "    print(\"Entered value is -ve number and its -ve odd number\")\n",
    "else:\n",
    "    print(\"Entered number is positive odd number\")\n",
    "          "
   ]
  },
  {
   "cell_type": "code",
   "execution_count": 38,
   "id": "82dd8737-d5dd-43aa-b553-7804dcf059da",
   "metadata": {},
   "outputs": [
    {
     "name": "stdout",
     "output_type": "stream",
     "text": [
      "your a child and minority\n"
     ]
    }
   ],
   "source": [
    "age = 10\n",
    "if (18 <= age < 60):\n",
    "    print(\"you'r young and adult\")\n",
    "elif age>80:\n",
    "    print(\"you'r a senior citizen\")\n",
    "else:\n",
    "    print(\"your a child and minority\")\n",
    "    "
   ]
  },
  {
   "cell_type": "code",
   "execution_count": 39,
   "id": "a73c044c-c2d6-4cc0-8fa7-e3fc734d816d",
   "metadata": {},
   "outputs": [
    {
     "name": "stdout",
     "output_type": "stream",
     "text": [
      "x is less then 5\n"
     ]
    }
   ],
   "source": [
    "#nested if else\n",
    "x = 1\n",
    "y = 5\n",
    "if (x>5):\n",
    "    if(y>5):\n",
    "        print(\"value of x and y is greate than 5\")\n",
    "    else:\n",
    "        print(\"value of x is greater but y value is less then 5\")\n",
    "else:\n",
    "    print(\"x is less then 5\")"
   ]
  },
  {
   "cell_type": "code",
   "execution_count": 50,
   "id": "c8b31d8c-1fb8-48d7-a8b3-84f1547b796f",
   "metadata": {},
   "outputs": [
    {
     "name": "stdout",
     "output_type": "stream",
     "text": [
      "value of x is greater but y value is less then 5\n"
     ]
    }
   ],
   "source": [
    "x = 6\n",
    "y = 5\n",
    "if (x>5):\n",
    "    if(y>5):\n",
    "        print(\"value of x and y is greate than 5\")\n",
    "    else:\n",
    "        print(\"value of x is greater but y value is less then 5\")\n",
    "else:\n",
    "    print(\"x is less then 5\")"
   ]
  },
  {
   "cell_type": "code",
   "execution_count": 51,
   "id": "f71d024b-c2ec-44c6-a980-2692fa9bfb38",
   "metadata": {},
   "outputs": [
    {
     "name": "stdin",
     "output_type": "stream",
     "text": [
      "Enter a name Shivanand\n",
      "enter the email shiva@123\n",
      "enter the correct password hjui\n"
     ]
    },
    {
     "name": "stdout",
     "output_type": "stream",
     "text": [
      "Login successful\n"
     ]
    }
   ],
   "source": [
    "name = input(\"Enter a name\")\n",
    "email = input(\"enter the email\")\n",
    "password = input(\"enter the correct password\")\n",
    "if name == '':\n",
    "    print(\"please enter a valid name , name cannot be empty\")\n",
    "else:\n",
    "    if '@' not in email :\n",
    "        print(\"enter a valid email\")\n",
    "    else:\n",
    "        if(len(password)<0):\n",
    "            print(\"please provide a valid password\")\n",
    "        else:\n",
    "            print(\"Login successful\")\n",
    "    "
   ]
  },
  {
   "cell_type": "code",
   "execution_count": 52,
   "id": "41ab7737-a637-4dcb-809f-d875fbb92882",
   "metadata": {},
   "outputs": [
    {
     "name": "stdin",
     "output_type": "stream",
     "text": [
      "Enter a name 23\n",
      "enter the email 34\n",
      "enter the correct password \n"
     ]
    },
    {
     "name": "stdout",
     "output_type": "stream",
     "text": [
      "enter a valid email\n"
     ]
    }
   ],
   "source": [
    "name = input(\"Enter a name\")\n",
    "email = input(\"enter the email\")\n",
    "password = input(\"enter the correct password\")\n",
    "if name == '':\n",
    "    print(\"please enter a valid name , name cannot be empty\")\n",
    "else:\n",
    "    if '@' not in email :\n",
    "        print(\"enter a valid email\")\n",
    "    else:\n",
    "        if(len(password)<0):\n",
    "            print(\"please provide a valid password\")\n",
    "        else:\n",
    "            print(\"Login successful\")"
   ]
  },
  {
   "cell_type": "code",
   "execution_count": 59,
   "id": "05ad4fb8-7895-4977-a5d6-fe995871f6f4",
   "metadata": {},
   "outputs": [
    {
     "name": "stdout",
     "output_type": "stream",
     "text": [
      "The value of i is :  1\n",
      "The value of i is :  2\n",
      "The value of i is :  3\n",
      "The value of i is :  4\n",
      "The value of i is :  5\n",
      "The value of i is :  6\n",
      "The value of i is :  7\n"
     ]
    }
   ],
   "source": [
    "n = 7\n",
    "i = 1\n",
    "while i<=n:\n",
    "    print('The value of i is : ',i)\n",
    "    i+=1\n",
    "    "
   ]
  },
  {
   "cell_type": "code",
   "execution_count": 60,
   "id": "e8154fcc-3e54-4f3e-9210-d8bfbef3ec54",
   "metadata": {},
   "outputs": [
    {
     "name": "stdout",
     "output_type": "stream",
     "text": [
      "5\n",
      "4\n",
      "3\n",
      "2\n",
      "1\n"
     ]
    }
   ],
   "source": [
    "count = 5\n",
    "while count>0:\n",
    "    print(count)\n",
    "    count-=1"
   ]
  },
  {
   "cell_type": "code",
   "execution_count": 61,
   "id": "5db0f71a-c480-4eed-a5e7-41bad9f71a5d",
   "metadata": {},
   "outputs": [
    {
     "name": "stdout",
     "output_type": "stream",
     "text": [
      "The value of i is :  1\n",
      "The value of i is :  2\n",
      "The value of i is :  3\n",
      "The value of i is :  4\n",
      "The value of i is :  5\n",
      "The value of i is :  6\n",
      "The value of i is :  7\n",
      "else block also executes\n"
     ]
    }
   ],
   "source": [
    "n = 7\n",
    "i = 1\n",
    "while i<=n:\n",
    "    print('The value of i is : ',i)\n",
    "    i+=1\n",
    "else:\n",
    "    print(\"else block also executes\")\n"
   ]
  },
  {
   "cell_type": "code",
   "execution_count": 71,
   "id": "e62f014d-b00e-44da-9f3d-8ad218c4a006",
   "metadata": {},
   "outputs": [
    {
     "name": "stdout",
     "output_type": "stream",
     "text": [
      "The value of i is :  1\n",
      "The value of i is :  2\n",
      "The value of i is :  3\n",
      "The value of i is :  4\n",
      "The value of i is :  5\n",
      "The value of i is :  6\n",
      "The value of i is :  7\n",
      "else block also executes\n"
     ]
    }
   ],
   "source": [
    "n = 7\n",
    "i = 1\n",
    "while i<=n:\n",
    "    print('The value of i is : ',i)\n",
    "    i+=1\n",
    "    if i == 7:\n",
    "        continue;\n",
    "else:\n",
    "    print(\"else block also executes\")"
   ]
  },
  {
   "cell_type": "code",
   "execution_count": 72,
   "id": "022490fa-3e58-4dc2-91d8-b95057af43ea",
   "metadata": {},
   "outputs": [
    {
     "name": "stdout",
     "output_type": "stream",
     "text": [
      "p\n",
      "w\n",
      "s\n",
      "k\n",
      "i\n",
      "l\n",
      "l\n",
      "s\n"
     ]
    }
   ],
   "source": [
    "a = 'pwskills'\n",
    "for _ in a:\n",
    "    print(_)"
   ]
  },
  {
   "cell_type": "code",
   "execution_count": 73,
   "id": "90ffa06b-7021-4af0-ab99-e15cdfc6902f",
   "metadata": {},
   "outputs": [
    {
     "name": "stdout",
     "output_type": "stream",
     "text": [
      "1\n",
      "2\n",
      "shivanand\n",
      "Data science\n"
     ]
    }
   ],
   "source": [
    "l = [1,2,'shivanand','Data science']\n",
    "for _ in l:\n",
    "    print(_)"
   ]
  },
  {
   "cell_type": "code",
   "execution_count": 79,
   "id": "8a3a8170-30c6-4938-8fb7-d9b4b7cb4995",
   "metadata": {},
   "outputs": [
    {
     "name": "stdout",
     "output_type": "stream",
     "text": [
      "1\n",
      "2\n"
     ]
    }
   ],
   "source": [
    "l = [1,2,'shivanand','Data science']\n",
    "for _ in l:\n",
    "    if(_=='shivanand'):\n",
    "        break;\n",
    "    print(_)\n",
    "else:\n",
    "    print(\"This is executed\")\n"
   ]
  },
  {
   "cell_type": "code",
   "execution_count": 80,
   "id": "dbf430ff-faab-4106-a1b3-7092574f9eb1",
   "metadata": {},
   "outputs": [
    {
     "name": "stdout",
     "output_type": "stream",
     "text": [
      "1\n",
      "2\n",
      "Data science\n",
      "This is executed\n"
     ]
    }
   ],
   "source": [
    "l = [1,2,'shivanand','Data science']\n",
    "for _ in l:\n",
    "    if(_=='shivanand'):\n",
    "        continue;\n",
    "    print(_)\n",
    "else:\n",
    "    print(\"This is executed\")"
   ]
  },
  {
   "cell_type": "code",
   "execution_count": 82,
   "id": "0cef1bc3-cdc4-40ee-bddf-974addee9478",
   "metadata": {},
   "outputs": [
    {
     "name": "stdout",
     "output_type": "stream",
     "text": [
      "1\n",
      "4\n",
      "7\n"
     ]
    }
   ],
   "source": [
    "for _ in range(1,10,3):\n",
    "    print(_)"
   ]
  },
  {
   "cell_type": "code",
   "execution_count": 89,
   "id": "ac0b7b8e-df4b-4911-8efb-39ded44e874c",
   "metadata": {},
   "outputs": [
    {
     "name": "stdout",
     "output_type": "stream",
     "text": [
      "0 1 2 3 4 5 6 7 8 9 "
     ]
    }
   ],
   "source": [
    "for i in range(10):\n",
    "    print(i,end = ' ')"
   ]
  },
  {
   "cell_type": "code",
   "execution_count": null,
   "id": "b08b3e0f-7a16-45b6-97af-895d706f1270",
   "metadata": {},
   "outputs": [],
   "source": [
    "#problem statemtns:\n",
    "# print a right angle triangle with *\n",
    "for i in range(4):\n",
    "    for j in range(i+1):\n",
    "        print(\"*\", end = '')\n",
    "    print()"
   ]
  },
  {
   "cell_type": "code",
   "execution_count": null,
   "id": "477f663c-129d-479b-a0ae-64d9bc745798",
   "metadata": {},
   "outputs": [],
   "source": []
  }
 ],
 "metadata": {
  "kernelspec": {
   "display_name": "Python 3 (ipykernel)",
   "language": "python",
   "name": "python3"
  },
  "language_info": {
   "codemirror_mode": {
    "name": "ipython",
    "version": 3
   },
   "file_extension": ".py",
   "mimetype": "text/x-python",
   "name": "python",
   "nbconvert_exporter": "python",
   "pygments_lexer": "ipython3",
   "version": "3.12.7"
  }
 },
 "nbformat": 4,
 "nbformat_minor": 5
}
