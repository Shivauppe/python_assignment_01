{
  "nbformat": 4,
  "nbformat_minor": 0,
  "metadata": {
    "colab": {
      "provenance": []
    },
    "kernelspec": {
      "name": "python3",
      "display_name": "Python 3"
    },
    "language_info": {
      "name": "python"
    }
  },
  "cells": [
    {
      "cell_type": "code",
      "execution_count": null,
      "metadata": {
        "id": "wv28XRDkm5sM"
      },
      "outputs": [],
      "source": []
    },
    {
      "cell_type": "markdown",
      "source": [
        "### **#1.Explain the Key feaures of Python**\n",
        "\n",
        "**Simplicity and Readability:** Python’s syntax is clean and easy to understand, which makes it accessible for beginners and allows developers to write code more quickly.\n",
        "\n",
        "**Versatility:** Python can be used for various applications, including web development, data analysis, artificial intelligence, machine learning, automation, and more.\n",
        "\n",
        "**Extensive Libraries and Frameworks:** Python has a rich ecosystem of libraries and frameworks (like Django, Flask, NumPy, Pandas, and TensorFlow) that streamline development and enable powerful functionality.\n",
        "\n",
        "**Strong Community Support:** A large and active community contributes to a wealth of resources, tutorials, and documentation, making it easier for newcomers to find help.\n",
        "\n",
        "**Cross-Platform Compatibility:** Python runs on various operating systems (Windows, macOS, Linux), allowing for greater flexibility in development.\n",
        "\n",
        "**Integration Capabilities:** Python easily integrates with other languages and technologies, making it suitable for a variety of projects and environments.\n",
        "\n",
        "**Dynamic Typing and Interactivity:** Python’s dynamic typing and interactive interpreter allow for rapid prototyping and experimentation."
      ],
      "metadata": {
        "id": "kfkkGBEjm_05"
      }
    },
    {
      "cell_type": "markdown",
      "source": [
        "## **2.Describe the role of predefined keywordsin python and provide examples of how they are used in a program**\n",
        "\n",
        "Role of Predefined Keywords:\n",
        "Control Flow: Keywords like if, else, for, while, and break control the flow of execution in programs.\n",
        "\n",
        "Function Definition: Keywords such as def and return are used to define functions and return values.\n",
        "\n",
        "Data Types and Structures: Keywords like class, import, and in are used for defining classes and importing modules, as well as checking membership.\n",
        "\n",
        "Exception Handling: Keywords like try, except, finally, and raise are used to manage errors and exceptions in the code.\n",
        "\n",
        "\n",
        "List of Common Keywords in Python:\n",
        "Control Flow: if, else, elif, for, while, break, continue\n",
        "Function and Class: def, return, class, self\n",
        "Exception Handling: try, except, finally, raise\n",
        "Other: import, from, as, in, is, lambda, with, not\n"
      ],
      "metadata": {
        "id": "JczAjRymrLNM"
      }
    },
    {
      "cell_type": "markdown",
      "source": [],
      "metadata": {
        "id": "kSvCGO6B1WwK"
      }
    },
    {
      "cell_type": "code",
      "source": [],
      "metadata": {
        "id": "JArm5cSW1XTe"
      },
      "execution_count": null,
      "outputs": []
    },
    {
      "cell_type": "code",
      "source": [
        "# Example 1: Control Flow with if-else\n",
        "x = 10\n",
        "if x > 5:\n",
        "    print(\"x is greater than 5\")\n",
        "else:\n",
        "    print(\"x is 5 or less\")\n",
        "\n",
        "# Example 2: Looping with for\n",
        "for i in range(5):\n",
        "    print(i)\n",
        "\n",
        "# Example 3: Function Definition\n",
        "def add(a, b):\n",
        "    return a + b\n",
        "\n",
        "result = add(3, 4)\n",
        "print(\"The sum is:\", result)\n",
        "\n",
        "# Example 4: Class Definition\n",
        "class Dog:\n",
        "    def __init__(self, name):\n",
        "        self.name = name\n",
        "\n",
        "    def bark(self):\n",
        "        return \"Woof!\"\n",
        "\n",
        "my_dog = Dog(\"Buddy\")\n",
        "print(my_dog.bark())\n",
        "\n",
        "# Example 5: Exception Handling\n",
        "try:\n",
        "    value = int(input(\"Enter a number: \"))\n",
        "    print(\"You entered:\", value)\n",
        "except ValueError:\n",
        "    print(\"That's not a valid number!\")\n",
        "finally:\n",
        "    print(\"Execution completed.\")\n"
      ],
      "metadata": {
        "colab": {
          "base_uri": "https://localhost:8080/"
        },
        "id": "LtsOFUido27b",
        "outputId": "b2c05dd9-2f46-4379-cacc-d8c7d712d188"
      },
      "execution_count": null,
      "outputs": [
        {
          "output_type": "stream",
          "name": "stdout",
          "text": [
            "x is greater than 5\n",
            "0\n",
            "1\n",
            "2\n",
            "3\n",
            "4\n",
            "The sum is: 7\n",
            "Woof!\n",
            "Enter a number: 10\n",
            "You entered: 10\n",
            "Execution completed.\n"
          ]
        }
      ]
    },
    {
      "cell_type": "markdown",
      "source": [
        "# **3.Compare and contrast mutable and immutable objects in python with examples**\n",
        "\n",
        "In Python, objects can be classified as mutable or immutable based on whether their state or contents can be changed after they are created.\n",
        "\n",
        "# **Mutable Objects**\n",
        "Definition: Mutable objects are those whose contents or state can be changed. When you modify a mutable object, the object itself is updated without creating a new object."
      ],
      "metadata": {
        "id": "vi7Q7lNC1Y1r"
      }
    },
    {
      "cell_type": "code",
      "source": [
        "#Examples:\n",
        "\n",
        "#Lists: You can change, add, or remove elements.\n",
        "my_list = [1, 2, 3]\n",
        "my_list.append(4)\n",
        "print(my_list)\n"
      ],
      "metadata": {
        "colab": {
          "base_uri": "https://localhost:8080/"
        },
        "id": "HsYRzPCb1jXp",
        "outputId": "4b54e24f-5a12-4c37-cc15-2c6f6484c484"
      },
      "execution_count": null,
      "outputs": [
        {
          "output_type": "stream",
          "name": "stdout",
          "text": [
            "[1, 2, 3, 4]\n"
          ]
        }
      ]
    },
    {
      "cell_type": "code",
      "source": [
        "my_list[0] = 10  # Changing an element\n",
        "print(my_list)  # Output: [10, 2, 3, 4]"
      ],
      "metadata": {
        "colab": {
          "base_uri": "https://localhost:8080/"
        },
        "id": "G1bunrqS2MNd",
        "outputId": "ff6221a1-bb1f-4ef0-d075-47a21738dffd"
      },
      "execution_count": null,
      "outputs": [
        {
          "output_type": "stream",
          "name": "stdout",
          "text": [
            "[10, 2, 3, 4]\n"
          ]
        }
      ]
    },
    {
      "cell_type": "code",
      "source": [
        "#Dictionaries: You can add or change key-value pairs.\n",
        "\n",
        "my_dict = {'a': 1, 'b': 2}\n",
        "my_dict['c'] = 3  # Adding a new key-value pair\n",
        "print(my_dict)"
      ],
      "metadata": {
        "colab": {
          "base_uri": "https://localhost:8080/"
        },
        "id": "1rew7z3D3XO4",
        "outputId": "b9c882f1-c15b-473a-a2e5-a6445d581f35"
      },
      "execution_count": null,
      "outputs": [
        {
          "output_type": "stream",
          "name": "stdout",
          "text": [
            "{'a': 1, 'b': 2, 'c': 3}\n"
          ]
        }
      ]
    },
    {
      "cell_type": "markdown",
      "source": [
        "# **Immutable Objects**\n",
        "Definition: Immutable objects cannot be changed once they are created. Any modification to an immutable object results in the creation of a new object instead.\n",
        "\n"
      ],
      "metadata": {
        "id": "EK5GF_pa3j4l"
      }
    },
    {
      "cell_type": "code",
      "source": [
        "#Tuples: Once created, you cannot change their contents\n",
        "my_tuple = (1, 2, 3)  # Creating a tuple\n",
        "print(my_tuple)"
      ],
      "metadata": {
        "colab": {
          "base_uri": "https://localhost:8080/"
        },
        "id": "7Ycb11S73p8T",
        "outputId": "e5041cd8-595b-46bd-90e1-54a9dc4cffc2"
      },
      "execution_count": null,
      "outputs": [
        {
          "output_type": "stream",
          "name": "stdout",
          "text": [
            "(1, 2, 3)\n"
          ]
        }
      ]
    },
    {
      "cell_type": "code",
      "source": [
        "my_tuple = (1, 2, 3)\n",
        "# my_tuple[0] = 10  # This would raise a TypeError\n",
        "\n",
        "new_tuple = my_tuple + (4,)  # Creates a new tuple\n",
        "print(new_tuple)  # Output: (1, 2, 3, 4)\n"
      ],
      "metadata": {
        "colab": {
          "base_uri": "https://localhost:8080/"
        },
        "id": "5KwlU8ul37zy",
        "outputId": "e17975b5-9d65-403a-a3c0-89f48b72c4f8"
      },
      "execution_count": null,
      "outputs": [
        {
          "output_type": "stream",
          "name": "stdout",
          "text": [
            "(1, 2, 3, 4)\n"
          ]
        }
      ]
    },
    {
      "cell_type": "code",
      "source": [
        "#Strings: Strings cannot be modified; operations create new strings.\n",
        "\n",
        "my_string = \"Hello\"\n",
        "new_string = my_string.replace(\"H\", \"J\")  # Creates a new string\n",
        "print(new_string)  # Output: \"Jello\"\n",
        "print(my_string)   # Output: \"Hello\" (original string remains unchanged)\n"
      ],
      "metadata": {
        "colab": {
          "base_uri": "https://localhost:8080/"
        },
        "id": "2N2AwiLi4SzF",
        "outputId": "690fe836-7305-4fad-e3c0-d0ef7c5f5f2b"
      },
      "execution_count": null,
      "outputs": [
        {
          "output_type": "stream",
          "name": "stdout",
          "text": [
            "Jello\n",
            "Hello\n"
          ]
        }
      ]
    },
    {
      "cell_type": "markdown",
      "source": [],
      "metadata": {
        "id": "hSXEOJe84bGq"
      }
    },
    {
      "cell_type": "markdown",
      "source": [
        "### ** 4 Discuss the diff type of operators in python and provide a examples of how they are used **\n",
        "\n",
        " operators are special symbols that perform operations on variables and values. Here are the main types of operators in Python, along with examples for each:\n",
        "\n",
        " 1. Arithmetic Operators\n",
        "These operators perform basic mathematical operations.\n",
        "\n",
        "Addition (+)\n",
        "Subtraction (-)\n",
        "Multiplication (*)\n",
        "Division (/)\n",
        "Floor Division (//)\n",
        "Modulus (%)\n",
        "Exponentiation (**)\n",
        "\n",
        "2. Comparison Operators\n",
        "These operators compare values and return a boolean result (True or False).\n",
        "\n",
        "Equal to (==)\n",
        "Not equal to (!=)\n",
        "Greater than (>)\n",
        "Less than (<)\n",
        "Greater than or equal to (>=)\n",
        "Less than or equal to (<=)\n",
        "\n",
        "3. Logical Operators\n",
        "These operators combine conditional statements.\n",
        "\n",
        "AND (and)\n",
        "OR (or)\n",
        "NOT (not)\n",
        "\n",
        "4. Bitwise Operators\n",
        "These operators perform operations on binary representations of integers.\n",
        "\n",
        "AND (&)\n",
        "OR (|)\n",
        "XOR (^)\n",
        "NOT (~)\n",
        "Left Shift (<<)\n",
        "Right Shift (>>)\n",
        "\n"
      ],
      "metadata": {
        "id": "5OVd4jgd5LsC"
      }
    },
    {
      "cell_type": "code",
      "source": [
        "a = 10\n",
        "b = 3\n",
        "\n",
        "print(a + b)  # Output: 13\n",
        "print(a - b)  # Output: 7\n",
        "print(a * b)  # Output: 30\n",
        "print(a / b)  # Output: 3.333...\n",
        "print(a // b) # Output: 3\n",
        "print(a % b)  # Output: 1\n",
        "print(a ** b) # Output: 1000\n"
      ],
      "metadata": {
        "id": "gj5wERbl5w-F",
        "colab": {
          "base_uri": "https://localhost:8080/"
        },
        "outputId": "1834f3b2-6860-4675-ddff-35ba7f95d3d5"
      },
      "execution_count": null,
      "outputs": [
        {
          "output_type": "stream",
          "name": "stdout",
          "text": [
            "13\n",
            "7\n",
            "30\n",
            "3.3333333333333335\n",
            "3\n",
            "1\n",
            "1000\n"
          ]
        }
      ]
    },
    {
      "cell_type": "code",
      "source": [
        "x = 5\n",
        "y = 10\n",
        "\n",
        "print(x == y)  # Output: False\n",
        "print(x != y)  # Output: True\n",
        "print(x > y)   # Output: False\n",
        "print(x < y)   # Output: True\n",
        "print(x >= y)  # Output: False\n",
        "print(x <= y)  # Output: True\n"
      ],
      "metadata": {
        "colab": {
          "base_uri": "https://localhost:8080/"
        },
        "id": "KwSoWG0P6Vpa",
        "outputId": "910ca3bf-2959-468c-beb1-8e5269e9d598"
      },
      "execution_count": null,
      "outputs": [
        {
          "output_type": "stream",
          "name": "stdout",
          "text": [
            "False\n",
            "True\n",
            "False\n",
            "True\n",
            "False\n",
            "True\n"
          ]
        }
      ]
    },
    {
      "cell_type": "code",
      "source": [
        "a = True\n",
        "b = False\n",
        "\n",
        "print(a and b)  # Output: False\n",
        "print(a or b)   # Output: True\n",
        "print(not a)    # Output: False\n"
      ],
      "metadata": {
        "colab": {
          "base_uri": "https://localhost:8080/"
        },
        "id": "cic3VR4I6acr",
        "outputId": "7fb536ac-c96d-4b74-b5b5-2e1b58a2274e"
      },
      "execution_count": null,
      "outputs": [
        {
          "output_type": "stream",
          "name": "stdout",
          "text": [
            "False\n",
            "True\n",
            "False\n"
          ]
        }
      ]
    },
    {
      "cell_type": "code",
      "source": [
        "a = 5  # Binary: 0101\n",
        "b = 3  # Binary: 0011\n",
        "\n",
        "print(a & b)  # Output: 1  (Binary: 0001)\n",
        "print(a | b)  # Output: 7  (Binary: 0111)\n",
        "print(a ^ b)  # Output: 6  (Binary: 0110)\n",
        "print(~a)     # Output: -6 (Binary: 1010)\n",
        "print(a << 1) # Output: 10 (Binary: 1010)\n",
        "print(a >> 1) # Output: 2  (Binary: 0010)\n"
      ],
      "metadata": {
        "colab": {
          "base_uri": "https://localhost:8080/"
        },
        "id": "bAaZtHHt6dPz",
        "outputId": "164d24ed-64a1-44a7-9245-de77ea6b79ef"
      },
      "execution_count": null,
      "outputs": [
        {
          "output_type": "stream",
          "name": "stdout",
          "text": [
            "1\n",
            "7\n",
            "6\n",
            "-6\n",
            "10\n",
            "2\n"
          ]
        }
      ]
    },
    {
      "cell_type": "code",
      "source": [
        "x = 10\n",
        "x += 5  # Same as x = x + 5\n",
        "print(x)  # Output: 15\n",
        "\n",
        "x *= 2  # Same as x = x * 2\n",
        "print(x)  # Output: 30\n"
      ],
      "metadata": {
        "colab": {
          "base_uri": "https://localhost:8080/"
        },
        "id": "4gx9b3AA6iGK",
        "outputId": "dbb72db1-9e7d-4fa4-ee8e-8181b5bc3b26"
      },
      "execution_count": null,
      "outputs": [
        {
          "output_type": "stream",
          "name": "stdout",
          "text": [
            "15\n",
            "30\n"
          ]
        }
      ]
    },
    {
      "cell_type": "code",
      "source": [
        "a = [1, 2, 3]\n",
        "b = a\n",
        "c = a[:]\n",
        "\n",
        "print(a is b)      # Output: True (b is the same object as a)\n",
        "print(a is c)      # Output: False (c is a copy of a)\n",
        "print(a is not c)  # Output: True\n"
      ],
      "metadata": {
        "colab": {
          "base_uri": "https://localhost:8080/"
        },
        "id": "-T9r6uJr6lGT",
        "outputId": "6bb09e4b-06a0-4a35-947c-61adf3d1c4b2"
      },
      "execution_count": null,
      "outputs": [
        {
          "output_type": "stream",
          "name": "stdout",
          "text": [
            "True\n",
            "False\n",
            "True\n"
          ]
        }
      ]
    },
    {
      "cell_type": "code",
      "source": [
        "my_list = [1, 2, 3, 4]\n",
        "\n",
        "print(2 in my_list)      # Output: True\n",
        "print(5 not in my_list)  # Output: True\n"
      ],
      "metadata": {
        "colab": {
          "base_uri": "https://localhost:8080/"
        },
        "id": "r3UlbF3L6oUr",
        "outputId": "5be78351-0723-44b9-fa69-a142d83e383a"
      },
      "execution_count": null,
      "outputs": [
        {
          "output_type": "stream",
          "name": "stdout",
          "text": [
            "True\n",
            "True\n"
          ]
        }
      ]
    },
    {
      "cell_type": "markdown",
      "source": [
        "# ** 5.Explain the concept of type casting in python with examples**\n",
        "\n",
        "Type casting in Python refers to the conversion of one data type to another. This is useful when you need to perform operations that require a specific data type, or when you want to ensure data consistency.\n",
        "\n",
        "Types of Type Casting\n",
        "Implicit Type Casting (Automatic)\n",
        "\n",
        "This occurs when Python automatically converts one data type to another without explicit instructions from the programmer. It usually happens when a smaller data type is converted to a larger data type to avoid data loss."
      ],
      "metadata": {
        "id": "YE-L2A7F7CFN"
      }
    },
    {
      "cell_type": "code",
      "source": [
        "int_var = 5\n",
        "float_var = 2.0\n",
        "result = int_var + float_var  # int is converted to float\n",
        "print(result)  # Output: 7.0\n",
        "print(type(result))  # Output: <class 'float'>\n"
      ],
      "metadata": {
        "colab": {
          "base_uri": "https://localhost:8080/"
        },
        "id": "NJxn207s7Oeu",
        "outputId": "b2223d67-124d-4308-ada2-1c5ce8cd1bdd"
      },
      "execution_count": null,
      "outputs": [
        {
          "output_type": "stream",
          "name": "stdout",
          "text": [
            "7.0\n",
            "<class 'float'>\n"
          ]
        }
      ]
    },
    {
      "cell_type": "code",
      "source": [],
      "metadata": {
        "id": "JMH65zRn7B3F"
      },
      "execution_count": null,
      "outputs": []
    },
    {
      "cell_type": "markdown",
      "source": [
        "Explicit Type Casting (Manual)\n",
        "This is done by using built-in functions to convert data types explicitly. Python provides several functions for this purpose, including int(), float(), str(), and list()."
      ],
      "metadata": {
        "id": "0_HoW2Wn7Uk2"
      }
    },
    {
      "cell_type": "code",
      "source": [
        "#Converting to Integer:\n",
        "float_var = 5.7\n",
        "int_var = int(float_var)  # Converts float to int\n",
        "print(int_var)  # Output: 5\n"
      ],
      "metadata": {
        "colab": {
          "base_uri": "https://localhost:8080/"
        },
        "id": "UtCJPevt7Xuu",
        "outputId": "cea08395-191c-42f4-cf06-2175eb6d1ae4"
      },
      "execution_count": null,
      "outputs": [
        {
          "output_type": "stream",
          "name": "stdout",
          "text": [
            "5\n"
          ]
        }
      ]
    },
    {
      "cell_type": "code",
      "source": [
        "#Converting to float:\n",
        "int_var = 10\n",
        "float_var = float(int_var)  # Converts int to float\n",
        "print(float_var)  # Output: 10.0\n"
      ],
      "metadata": {
        "colab": {
          "base_uri": "https://localhost:8080/"
        },
        "id": "Y8ihap--7byw",
        "outputId": "c70d6d8e-4142-45ec-f3be-7f854a5279ea"
      },
      "execution_count": null,
      "outputs": [
        {
          "output_type": "stream",
          "name": "stdout",
          "text": [
            "10.0\n"
          ]
        }
      ]
    },
    {
      "cell_type": "code",
      "source": [
        "#Converting to String:\n",
        "number = 100\n",
        "string_var = str(number)  # Converts int to string\n",
        "print(string_var)  # Output: \"100\"\n",
        "print(type(string_var))  # Output: <class 'str'>\n"
      ],
      "metadata": {
        "colab": {
          "base_uri": "https://localhost:8080/"
        },
        "id": "ZnzlQpAu7efJ",
        "outputId": "0b999e43-e76e-446f-a136-de0593b5bf05"
      },
      "execution_count": null,
      "outputs": [
        {
          "output_type": "stream",
          "name": "stdout",
          "text": [
            "100\n",
            "<class 'str'>\n"
          ]
        }
      ]
    },
    {
      "cell_type": "code",
      "source": [
        "#Converting to Integer from string:\n",
        "\n",
        "str_var = \"123\"\n",
        "int_var = int(str_var)  # Converts string to int\n",
        "print(int_var)  # Output: 123\n"
      ],
      "metadata": {
        "colab": {
          "base_uri": "https://localhost:8080/"
        },
        "id": "_1iuSkOn7hqh",
        "outputId": "54b79437-4a94-400c-c228-b7d926e14f30"
      },
      "execution_count": null,
      "outputs": [
        {
          "output_type": "stream",
          "name": "stdout",
          "text": [
            "123\n"
          ]
        }
      ]
    },
    {
      "cell_type": "code",
      "source": [
        "#Converting a List to a Tuple\n",
        "my_list = [1, 2, 3]\n",
        "my_tuple = tuple(my_list)  # Converts list to tuple\n",
        "print(my_tuple)  # Output: (1, 2, 3)\n"
      ],
      "metadata": {
        "colab": {
          "base_uri": "https://localhost:8080/"
        },
        "id": "IANqTbv-7syC",
        "outputId": "9d8bdcb3-b587-48ee-b4a3-7f7ab35ecf05"
      },
      "execution_count": null,
      "outputs": [
        {
          "output_type": "stream",
          "name": "stdout",
          "text": [
            "(1, 2, 3)\n"
          ]
        }
      ]
    },
    {
      "cell_type": "markdown",
      "source": [
        "# **6.How do conditional statements works in python explain with examples**\n",
        "\n",
        "Conditional statements in Python allow you to execute specific blocks of code based on whether certain conditions are true or false. The primary conditional statements in Python are if, elif, and else.\n",
        "\n",
        "if condition:\n",
        "    # Code to execute if condition is true\n",
        "elif another_condition:\n",
        "    # Code to execute if the previous condition is false and this one is true\n",
        "else:\n",
        "    # Code to execute if all previous conditions are false\n"
      ],
      "metadata": {
        "id": "gjrnTtuB8nlX"
      }
    },
    {
      "cell_type": "code",
      "source": [
        "#Simple conditional statements\n",
        "age = 18\n",
        "\n",
        "if age >= 18:\n",
        "    print(\"You are an adult.\")\n",
        "else:\n",
        "    print(\"You are a minor.\")\n"
      ],
      "metadata": {
        "colab": {
          "base_uri": "https://localhost:8080/"
        },
        "id": "4b33-0yk9163",
        "outputId": "e255eedf-e724-4fef-e4eb-5974aab17dc1"
      },
      "execution_count": null,
      "outputs": [
        {
          "output_type": "stream",
          "name": "stdout",
          "text": [
            "You are an adult.\n"
          ]
        }
      ]
    },
    {
      "cell_type": "code",
      "source": [
        "#Example 2: Using elif You can use elif to check multiple conditions:\n",
        "score = 85\n",
        "\n",
        "if score >= 90:\n",
        "    print(\"Grade: A\")\n",
        "elif score >= 80:\n",
        "    print(\"Grade: B\")\n",
        "elif score >= 70:\n",
        "    print(\"Grade: C\")\n",
        "else:\n",
        "    print(\"Grade: D or below\")\n"
      ],
      "metadata": {
        "colab": {
          "base_uri": "https://localhost:8080/"
        },
        "id": "50iuppgM9_vW",
        "outputId": "2ee8fdc5-40e2-4cc1-c3b8-b27eed0a3a21"
      },
      "execution_count": null,
      "outputs": [
        {
          "output_type": "stream",
          "name": "stdout",
          "text": [
            "Grade: B\n"
          ]
        }
      ]
    },
    {
      "cell_type": "code",
      "source": [
        "#Example 3: Nested Conditional Statements\n",
        "number = 15\n",
        "\n",
        "if number > 0:\n",
        "    print(\"Positive number\")\n",
        "    if number % 2 == 0:\n",
        "        print(\"Even number\")\n",
        "    else:\n",
        "        print(\"Odd number\")\n",
        "else:\n",
        "    print(\"Negative number or zero\")\n"
      ],
      "metadata": {
        "colab": {
          "base_uri": "https://localhost:8080/"
        },
        "id": "kweGgFM3-Mzd",
        "outputId": "57eeeb71-17c2-4fae-c75c-96c69e0c4316"
      },
      "execution_count": null,
      "outputs": [
        {
          "output_type": "stream",
          "name": "stdout",
          "text": [
            "Positive number\n",
            "Odd number\n"
          ]
        }
      ]
    },
    {
      "cell_type": "code",
      "source": [
        "#Example 4: Combining Conditions\n",
        "temperature = 30\n",
        "humidity = 70\n",
        "\n",
        "if temperature > 25 and humidity > 60:\n",
        "    print(\"It's a hot and humid day.\")\n",
        "elif temperature > 25 and humidity <= 60:\n",
        "    print(\"It's hot but not humid.\")\n",
        "else:\n",
        "    print(\"It's a pleasant day.\")\n"
      ],
      "metadata": {
        "id": "M-naQ7OI-Tx2"
      },
      "execution_count": null,
      "outputs": []
    },
    {
      "cell_type": "code",
      "source": [
        "#Example 5: Using the in Operator\n",
        "fruits = ['apple', 'banana', 'cherry']\n",
        "\n",
        "if 'banana' in fruits:\n",
        "    print(\"Banana is in the list.\")\n",
        "else:\n",
        "    print(\"Banana is not in the list.\")\n"
      ],
      "metadata": {
        "colab": {
          "base_uri": "https://localhost:8080/"
        },
        "id": "R6t62RJc-YCP",
        "outputId": "bdcc708e-5465-4913-8e52-48f3145799c5"
      },
      "execution_count": null,
      "outputs": [
        {
          "output_type": "stream",
          "name": "stdout",
          "text": [
            "Banana is in the list.\n"
          ]
        }
      ]
    },
    {
      "cell_type": "markdown",
      "source": [
        "# **7.Describe the different types of loops in python and thier use cases with examples**\n",
        "\n",
        "For Loop: Best for iterating over a sequence or a fixed range.\n",
        "While Loop: Best for situations where the number of iterations is not known beforehand.\n",
        "Nested Loops: Useful for working with multi-dimensional data.\n",
        "Control Statements: break and continue help manage loop execution."
      ],
      "metadata": {
        "id": "ffhQmCob-peO"
      }
    },
    {
      "cell_type": "code",
      "source": [
        "# Iterating over a list\n",
        "fruits = ['apple', 'banana', 'cherry']\n",
        "for fruit in fruits:\n",
        "    print(fruit)\n",
        "\n",
        "# Using range to repeat an action\n",
        "for i in range(5):  # This will iterate from 0 to 4\n",
        "    print(i)\n"
      ],
      "metadata": {
        "colab": {
          "base_uri": "https://localhost:8080/"
        },
        "id": "ricUl3fm_VhR",
        "outputId": "8b7a23a1-96a5-493b-f8e7-a3f55841d856"
      },
      "execution_count": null,
      "outputs": [
        {
          "output_type": "stream",
          "name": "stdout",
          "text": [
            "apple\n",
            "banana\n",
            "cherry\n",
            "0\n",
            "1\n",
            "2\n",
            "3\n",
            "4\n"
          ]
        }
      ]
    },
    {
      "cell_type": "code",
      "source": [
        "#while loop\n",
        "# Simple counter\n",
        "count = 0\n",
        "while count < 5:\n",
        "    print(count)\n",
        "    count += 1  # Incrementing the count\n"
      ],
      "metadata": {
        "colab": {
          "base_uri": "https://localhost:8080/"
        },
        "id": "YVsJh3sW_h-p",
        "outputId": "fca615e0-21af-41ca-b08b-230d8e693cea"
      },
      "execution_count": null,
      "outputs": [
        {
          "output_type": "stream",
          "name": "stdout",
          "text": [
            "0\n",
            "1\n",
            "2\n",
            "3\n",
            "4\n"
          ]
        }
      ]
    },
    {
      "cell_type": "code",
      "source": [
        "# Nested loops to create a multiplication table\n",
        "for i in range(1, 4):  # Outer loop\n",
        "    for j in range(1, 4):  # Inner loop\n",
        "        print(f\"{i} * {j} = {i * j}\")\n"
      ],
      "metadata": {
        "id": "6-gngJgR_n-S",
        "outputId": "731b9862-d442-44ff-ec02-bc211b445c68",
        "colab": {
          "base_uri": "https://localhost:8080/"
        }
      },
      "execution_count": null,
      "outputs": [
        {
          "output_type": "stream",
          "name": "stdout",
          "text": [
            "1 * 1 = 1\n",
            "1 * 2 = 2\n",
            "1 * 3 = 3\n",
            "2 * 1 = 2\n",
            "2 * 2 = 4\n",
            "2 * 3 = 6\n",
            "3 * 1 = 3\n",
            "3 * 2 = 6\n",
            "3 * 3 = 9\n"
          ]
        }
      ]
    },
    {
      "cell_type": "code",
      "source": [
        "for i in range(5):\n",
        "    if i == 2:\n",
        "        continue  # Skip the rest of the loop when i is 2\n",
        "    print(i)\n",
        "\n"
      ],
      "metadata": {
        "colab": {
          "base_uri": "https://localhost:8080/"
        },
        "id": "k0Gluoww_6uT",
        "outputId": "18c2e858-ce66-4c0b-8163-ecb45e0f136d"
      },
      "execution_count": 33,
      "outputs": [
        {
          "output_type": "stream",
          "name": "stdout",
          "text": [
            "0\n",
            "1\n",
            "3\n",
            "4\n"
          ]
        }
      ]
    }
  ]
}